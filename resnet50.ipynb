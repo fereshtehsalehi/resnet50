{
  "cells": [
    {
      "cell_type": "code",
      "execution_count": null,
      "metadata": {
        "id": "HtLt0jts_nQL"
      },
      "outputs": [],
      "source": [
        "\n",
        "import tensorflow as tf\n",
        "from tensorflow.keras.applications import ResNet50\n",
        "from tensorflow.keras.preprocessing.image import ImageDataGenerator\n",
        "from tensorflow.keras.layers import Dense, GlobalAveragePooling2D\n",
        "from tensorflow.keras.models import Model\n"
      ]
    },
    {
      "cell_type": "code",
      "execution_count": null,
      "metadata": {
        "colab": {
          "base_uri": "https://localhost:8080/"
        },
        "id": "kFxMXkz5_zKN",
        "outputId": "02dde924-5a08-4834-973c-ff86beffd66e"
      },
      "outputs": [
        {
          "name": "stdout",
          "output_type": "stream",
          "text": [
            "Downloading data from https://storage.googleapis.com/tensorflow/keras-applications/resnet/resnet50_weights_tf_dim_ordering_tf_kernels_notop.h5\n",
            "94765736/94765736 [==============================] - 1s 0us/step\n"
          ]
        }
      ],
      "source": [
        "# Load the ResNet50 model\n",
        "base_model = ResNet50(include_top=False, weights='imagenet', input_shape=(224, 224, 3))\n"
      ]
    },
    {
      "cell_type": "code",
      "execution_count": null,
      "metadata": {
        "id": "6aGhqSCJAAA5"
      },
      "outputs": [],
      "source": [
        "\n",
        "# Add a global spatial average pooling layer\n",
        "x = base_model.output\n",
        "x = GlobalAveragePooling2D()(x)\n"
      ]
    },
    {
      "cell_type": "code",
      "execution_count": null,
      "metadata": {
        "id": "tc1MmLL1EdaO"
      },
      "outputs": [],
      "source": [
        "x = Dense(256,activation='relu')(x)"
      ]
    },
    {
      "cell_type": "code",
      "execution_count": null,
      "metadata": {
        "id": "MRJhx8xAAG0B"
      },
      "outputs": [],
      "source": [
        "# Add a dense layer with 2 output nodes for binary classification (Normal/Pneumonia)\n",
        "predictions = Dense(2, activation='softmax')(x)\n"
      ]
    },
    {
      "cell_type": "code",
      "execution_count": null,
      "metadata": {
        "id": "uB3ec6aVAM7R"
      },
      "outputs": [],
      "source": [
        "# Create the model\n",
        "model = Model(inputs=base_model.input, outputs=predictions)\n"
      ]
    },
    {
      "cell_type": "code",
      "execution_count": null,
      "metadata": {
        "id": "bKds8ejMAhY9"
      },
      "outputs": [],
      "source": [
        "\n",
        "# Compile the model\n",
        "model.compile(optimizer='adam', loss='categorical_crossentropy', metrics=['accuracy'])\n"
      ]
    },
    {
      "cell_type": "code",
      "execution_count": null,
      "metadata": {
        "id": "a3bFHLBtAoi4"
      },
      "outputs": [],
      "source": [
        "# Load the data\n",
        "train_datagen = ImageDataGenerator(rescale=1./255, shear_range=0.2, zoom_range=0.2, horizontal_flip=True)\n",
        "test_datagen = ImageDataGenerator(rescale=1./255)\n"
      ]
    },
    {
      "cell_type": "code",
      "execution_count": null,
      "metadata": {
        "colab": {
          "base_uri": "https://localhost:8080/"
        },
        "id": "UyR9mrFmA4oy",
        "outputId": "3995ac37-7eea-46e4-c320-a4334b55760b"
      },
      "outputs": [
        {
          "name": "stdout",
          "output_type": "stream",
          "text": [
            "Found 5241 images belonging to 2 classes.\n",
            "Found 630 images belonging to 2 classes.\n"
          ]
        }
      ],
      "source": [
        "\n",
        "train_generator = train_datagen.flow_from_directory('/content/drive/MyDrive/chest_xray/train', target_size=(224, 224), batch_size=32, class_mode='categorical')\n",
        "test_generator = test_datagen.flow_from_directory('/content/drive/MyDrive/chest_xray/test', target_size=(224, 224), batch_size=32, class_mode='categorical')\n"
      ]
    },
    {
      "cell_type": "code",
      "execution_count": null,
      "metadata": {
        "colab": {
          "background_save": true,
          "base_uri": "https://localhost:8080/"
        },
        "id": "docK52qeB5Xx",
        "outputId": "b8aeea75-2107-4d2a-df6a-0bcaf535d984"
      },
      "outputs": [
        {
          "name": "stdout",
          "output_type": "stream",
          "text": [
            "Epoch 1/3\n",
            "164/164 [==============================] - 4374s 25s/step - loss: 0.2283 - accuracy: 0.9244 - val_loss: 1.0447 - val_accuracy: 0.6190\n",
            "Epoch 2/3\n",
            "164/164 [==============================] - 3882s 24s/step - loss: 0.1074 - accuracy: 0.9613 - val_loss: 7.8325 - val_accuracy: 0.6190\n",
            "Epoch 3/3\n",
            "164/164 [==============================] - 3869s 24s/step - loss: 0.0884 - accuracy: 0.9681 - val_loss: 3.9115 - val_accuracy: 0.6190\n"
          ]
        }
      ],
      "source": [
        "# Train the model\n",
        "history = model.fit(train_generator, epochs=3, validation_data=test_generator)\n"
      ]
    },
    {
      "cell_type": "code",
      "execution_count": null,
      "metadata": {
        "id": "qVeov6vAGcYb",
        "colab": {
          "base_uri": "https://localhost:8080/"
        },
        "outputId": "26ce8663-07af-487a-f79d-948230fca86b"
      },
      "outputs": [
        {
          "output_type": "stream",
          "name": "stdout",
          "text": [
            "Test loss: 3.9115312099456787\n",
            "Test accuracy: 0.6190476417541504\n"
          ]
        }
      ],
      "source": [
        "\n",
        "# Evaluate the model\n",
        "score = model.evaluate(test_generator, verbose=0)\n",
        "print('Test loss:', score[0])\n",
        "print('Test accuracy:', score[1])\n"
      ]
    }
  ],
  "metadata": {
    "colab": {
      "provenance": []
    },
    "kernelspec": {
      "display_name": "Python 3",
      "name": "python3"
    },
    "language_info": {
      "name": "python"
    }
  },
  "nbformat": 4,
  "nbformat_minor": 0
}